{
 "cells": [
  {
   "cell_type": "markdown",
   "metadata": {},
   "source": [
    "# API Mapper Demo"
   ]
  },
  {
   "cell_type": "markdown",
   "metadata": {},
   "source": [
    "## Setup"
   ]
  },
  {
   "cell_type": "code",
   "execution_count": 8,
   "metadata": {
    "ExecuteTime": {
     "end_time": "2020-02-03T08:07:13.855592Z",
     "start_time": "2020-02-03T08:07:13.852994Z"
    }
   },
   "outputs": [],
   "source": [
    "from apimapper import config, APIMapper\n",
    "from pprint import pprint"
   ]
  },
  {
   "cell_type": "markdown",
   "metadata": {},
   "source": [
    "## Configuration\n",
    "\n",
    "APIMapper needs two parameters source (details to query the API)and mapping (correspondence between fields in the original API response and the desired fields)"
   ]
  },
  {
   "cell_type": "markdown",
   "metadata": {
    "ExecuteTime": {
     "end_time": "2020-02-03T08:07:14.583071Z",
     "start_time": "2020-02-03T08:07:14.580886Z"
    }
   },
   "source": [
    "## SOURCE"
   ]
  },
  {
   "cell_type": "code",
   "execution_count": 31,
   "metadata": {
    "ExecuteTime": {
     "end_time": "2020-02-03T08:13:14.736208Z",
     "start_time": "2020-02-03T08:13:14.733994Z"
    }
   },
   "outputs": [],
   "source": [
    "## "
   ]
  },
  {
   "cell_type": "markdown",
   "metadata": {},
   "source": [
    "## MAPPING"
   ]
  },
  {
   "cell_type": "markdown",
   "metadata": {
    "ExecuteTime": {
     "end_time": "2020-02-03T08:12:42.595925Z",
     "start_time": "2020-02-03T08:12:42.593572Z"
    }
   },
   "source": [
    "### Direct mapping from JSON response to desired fieldnames in wrapped response"
   ]
  },
  {
   "cell_type": "markdown",
   "metadata": {
    "ExecuteTime": {
     "end_time": "2020-02-03T08:04:44.458198Z",
     "start_time": "2020-02-03T08:04:44.447087Z"
    }
   },
   "source": [
    "### DBPedia\n",
    "Direct 1-1 Mapping from a field called \"results\" in the response"
   ]
  },
  {
   "cell_type": "code",
   "execution_count": 38,
   "metadata": {
    "ExecuteTime": {
     "end_time": "2020-02-03T08:23:49.141629Z",
     "start_time": "2020-02-03T08:23:48.928791Z"
    }
   },
   "outputs": [
    {
     "name": "stdout",
     "output_type": "stream",
     "text": [
      "[{'label': 'Shania Twain', 'uri': 'http://dbpedia.org/resource/Shania_Twain'},\n",
      " {'label': 'Shania Twain (album)',\n",
      "  'uri': 'http://dbpedia.org/resource/Shania_Twain_(album)'},\n",
      " {'label': 'Shania Twain discography',\n",
      "  'uri': 'http://dbpedia.org/resource/Shania_Twain_discography'},\n",
      " {'label': 'Live (Shania Twain video)',\n",
      "  'uri': 'http://dbpedia.org/resource/Live_(Shania_Twain_video)'},\n",
      " {'label': 'List of awards received by Shania Twain',\n",
      "  'uri': 'http://dbpedia.org/resource/List_of_awards_received_by_Shania_Twain'}]\n"
     ]
    }
   ],
   "source": [
    "DBPEDIA_SOURCE = {config.URL: 'http://lookup.dbpedia.org/api/search/PrefixSearch?',\n",
    "                  config.QUERY_FIELD: 'QueryString'}\n",
    "\n",
    "DBPEDIA_MAP = {config.RESULT: 'results',\n",
    "               config.DIRECT: {'label': 'label',\n",
    "                               'uri': 'uri'}}\n",
    "\n",
    "api = APIMapper(DBPEDIA_SOURCE, DBPEDIA_MAP)\n",
    "res = api.fetch_results('Shania')\n",
    "pprint(res)\n"
   ]
  },
  {
   "cell_type": "markdown",
   "metadata": {},
   "source": [
    "### GND\n",
    "\n",
    "Direct 1-1 mapping from the response"
   ]
  },
  {
   "cell_type": "code",
   "execution_count": 24,
   "metadata": {
    "ExecuteTime": {
     "end_time": "2020-02-03T08:11:49.347509Z",
     "start_time": "2020-02-03T08:11:49.089877Z"
    }
   },
   "outputs": [
    {
     "name": "stdout",
     "output_type": "stream",
     "text": [
      "[{'label': 'Pratchett, Terry | 1948-2015 | Journalist, Schriftsteller',\n",
      "  'uri': 'https://d-nb.info/gnd/119252880'},\n",
      " {'label': 'Pratchett, Rhianna | 1976- | Journalistin, Drehbuchautorin',\n",
      "  'uri': 'https://d-nb.info/gnd/1037047303'},\n",
      " {'label': 'Schmidt, Sabine | [19XX]- | Anglistin, Übersetzerin',\n",
      "  'uri': 'https://d-nb.info/gnd/1054048231'},\n",
      " {'label': 'Brehnkmann, Peder', 'uri': 'https://d-nb.info/gnd/13788365X'},\n",
      " {'label': 'Pratchett, Lawrence', 'uri': 'https://d-nb.info/gnd/15259440X'},\n",
      " {'label': 'Pratchett, Tracey', 'uri': 'https://d-nb.info/gnd/1164173618'},\n",
      " {'label': 'Pratchett, Terry', 'uri': 'https://d-nb.info/gnd/185977111'},\n",
      " {'label': 'Pratchett, Morgan', 'uri': 'https://d-nb.info/gnd/1150939907'},\n",
      " {'label': 'Pratchett, Rhianna', 'uri': 'https://d-nb.info/gnd/140745769'},\n",
      " {'label': 'Pratchett, Morgan S.', 'uri': 'https://d-nb.info/gnd/109496011X'}]\n"
     ]
    }
   ],
   "source": [
    "GND_PERSON_MAP = {config.DIRECT: {'uri': 'id',\n",
    "                                  'label': 'label'}}\n",
    "GND_PERSON_SOURCE = {config.URL: 'https://lobid.org/gnd/search',\n",
    "                     config.QUERY_FIELD: 'q',\n",
    "                     config.PAYLOAD: {'format':'json:suggest',\n",
    "                                      'filter': 'type:Person'}}\n",
    "gnd_api = APIMapper(GND_PERSON_SOURCE, GND_PERSON_MAP)\n",
    "res = gnd_api.fetch_results('Pratchett')\n",
    "pprint(res)"
   ]
  },
  {
   "cell_type": "markdown",
   "metadata": {},
   "source": [
    "## Applying simple ruules on the response values"
   ]
  },
  {
   "cell_type": "markdown",
   "metadata": {},
   "source": [
    "### VIAF \n",
    "\n",
    "- Direct 1-1 mapping from a field called \"result\"\n",
    "- Constructing URI from the response field called VIAFID. i.e., \n",
    "```\n",
    "{... \n",
    "'result': {[... {...'displayForm':'Pratchett, Terry, 1948-2015','uri': '41318026'} ...]}\n",
    "}\n",
    "```\n",
    "becomes\n",
    "```\n",
    "[...{'label': 'Pratchett, Terry, 1948-2015',\n",
    "  'uri': 'http://www.viaf.org/viaf/76382712'}, ...]\n",
    "```"
   ]
  },
  {
   "cell_type": "code",
   "execution_count": 36,
   "metadata": {
    "ExecuteTime": {
     "end_time": "2020-02-03T08:19:01.156072Z",
     "start_time": "2020-02-03T08:19:00.831954Z"
    }
   },
   "outputs": [
    {
     "name": "stdout",
     "output_type": "stream",
     "text": [
      "[{'label': 'Pratchett, Terry, 1948-2015',\n",
      "  'uri': 'http://www.viaf.org/viaf/76382712'},\n",
      " {'label': 'Pratchett, Rhianna', 'uri': 'http://www.viaf.org/viaf/41318026'},\n",
      " {'label': 'Pratchett, Lawrence', 'uri': 'http://www.viaf.org/viaf/37216918'},\n",
      " {'label': 'Pratchett, Marina A', 'uri': 'http://www.viaf.org/viaf/105358095'},\n",
      " {'label': 'Pratchett, Tracey',\n",
      "  'uri': 'http://www.viaf.org/viaf/74148449587015690502'},\n",
      " {'label': 'Pratchett, Morgan', 'uri': 'http://www.viaf.org/viaf/304310389'}]\n"
     ]
    }
   ],
   "source": [
    "VIAF_PERSON_MAP = {config.RESULT: 'result',\n",
    "                   config.FILTER: {'nametype': 'personal'},\n",
    "                   config.DIRECT: {'label': 'displayForm'},\n",
    "                   config.RULES: {'uri': {config.RULE: '\"http://www.viaf.org/viaf/{p1}\"',\n",
    "                                          config.FIELDS: {'p1': 'viafid'}}}}\n",
    "\n",
    "    \n",
    "VIAF_PERSON_SOURCE =  {config.URL: 'http://www.viaf.org/viaf/AutoSuggest',\n",
    "                       config.QUERY_FIELD: 'query'}\n",
    "           \n",
    "viaf_api = APIMapper(VIAF_PERSON_SOURCE, VIAF_PERSON_MAP, timeout=1)\n",
    "res = viaf_api.fetch_results('Pratchett')\n",
    "pprint(res)"
   ]
  },
  {
   "cell_type": "markdown",
   "metadata": {},
   "source": [
    "## GND and VIAF for person\n",
    "\n",
    "Combined response:\n",
    "- URI: `GND:id, VIAF:http://www.viaf.org/viaf/AutoSuggest/{viafid}`\n",
    "- LABEL: `GND:label, VIAF:displayForm`\n"
   ]
  },
  {
   "cell_type": "code",
   "execution_count": 37,
   "metadata": {
    "ExecuteTime": {
     "end_time": "2020-02-03T08:19:10.270072Z",
     "start_time": "2020-02-03T08:19:09.575816Z"
    }
   },
   "outputs": [
    {
     "name": "stdout",
     "output_type": "stream",
     "text": [
      "[{'label': 'Pratchett, Terry | 1948-2015 | Journalist, Schriftsteller',\n",
      "  'uri': 'https://d-nb.info/gnd/119252880'},\n",
      " {'label': 'Pratchett, Rhianna | 1976- | Journalistin, Drehbuchautorin',\n",
      "  'uri': 'https://d-nb.info/gnd/1037047303'},\n",
      " {'label': 'Brehnkmann, Peder', 'uri': 'https://d-nb.info/gnd/13788365X'},\n",
      " {'label': 'Schmidt, Sabine | [19XX]- | Anglistin, Übersetzerin',\n",
      "  'uri': 'https://d-nb.info/gnd/1054048231'},\n",
      " {'label': 'Pratchett, Lawrence', 'uri': 'https://d-nb.info/gnd/15259440X'},\n",
      " {'label': 'Pratchett, Tracey', 'uri': 'https://d-nb.info/gnd/1164173618'},\n",
      " {'label': 'Pratchett, Terry', 'uri': 'https://d-nb.info/gnd/185977111'},\n",
      " {'label': 'Pratchett, Morgan', 'uri': 'https://d-nb.info/gnd/1150939907'},\n",
      " {'label': 'Pratchett, Rhianna', 'uri': 'https://d-nb.info/gnd/140745769'},\n",
      " {'label': 'Pratchett, Morgan S.', 'uri': 'https://d-nb.info/gnd/109496011X'},\n",
      " {'label': 'Pratchett, Terry, 1948-2015',\n",
      "  'uri': 'http://www.viaf.org/viaf/76382712'},\n",
      " {'label': 'Pratchett, Rhianna', 'uri': 'http://www.viaf.org/viaf/41318026'},\n",
      " {'label': 'Pratchett, Lawrence', 'uri': 'http://www.viaf.org/viaf/37216918'},\n",
      " {'label': 'Pratchett, Marina A', 'uri': 'http://www.viaf.org/viaf/105358095'},\n",
      " {'label': 'Pratchett, Tracey',\n",
      "  'uri': 'http://www.viaf.org/viaf/74148449587015690502'},\n",
      " {'label': 'Pratchett, Morgan', 'uri': 'http://www.viaf.org/viaf/304310389'}]\n"
     ]
    }
   ],
   "source": [
    "results = []\n",
    "for api in (gnd_api, viaf_api):            \n",
    "    res = api.fetch_results('Pratchett')\n",
    "    results.extend(res)\n",
    "\n",
    "pprint(results)"
   ]
  },
  {
   "cell_type": "code",
   "execution_count": null,
   "metadata": {},
   "outputs": [],
   "source": []
  }
 ],
 "metadata": {
  "hide_input": false,
  "kernelspec": {
   "display_name": "Python [conda env:data]",
   "language": "python",
   "name": "conda-env-data-py"
  },
  "language_info": {
   "codemirror_mode": {
    "name": "ipython",
    "version": 3
   },
   "file_extension": ".py",
   "mimetype": "text/x-python",
   "name": "python",
   "nbconvert_exporter": "python",
   "pygments_lexer": "ipython3",
   "version": "3.7.3"
  },
  "toc": {
   "base_numbering": 1,
   "nav_menu": {},
   "number_sections": true,
   "sideBar": true,
   "skip_h1_title": true,
   "title_cell": "Table of Contents",
   "title_sidebar": "Contents",
   "toc_cell": false,
   "toc_position": {},
   "toc_section_display": true,
   "toc_window_display": true
  }
 },
 "nbformat": 4,
 "nbformat_minor": 2
}
