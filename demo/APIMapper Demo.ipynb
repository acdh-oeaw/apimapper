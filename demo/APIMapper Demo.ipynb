{
 "cells": [
  {
   "cell_type": "markdown",
   "metadata": {},
   "source": [
    "# API Mapper Demo"
   ]
  },
  {
   "cell_type": "markdown",
   "metadata": {},
   "source": [
    "## Setup"
   ]
  },
  {
   "cell_type": "code",
   "execution_count": 1,
   "metadata": {
    "ExecuteTime": {
     "end_time": "2020-02-05T12:51:28.877171Z",
     "start_time": "2020-02-05T12:51:28.815013Z"
    }
   },
   "outputs": [],
   "source": [
    "from apimapper import config, APIMapper\n",
    "from pprint import pprint"
   ]
  },
  {
   "cell_type": "markdown",
   "metadata": {},
   "source": [
    "## Configuration\n",
    "\n",
    "APIMapper needs two parameters source (details to query the API)and mapping (correspondence between fields in the original API response and the desired fields)"
   ]
  },
  {
   "cell_type": "markdown",
   "metadata": {
    "ExecuteTime": {
     "end_time": "2020-02-03T08:07:14.583071Z",
     "start_time": "2020-02-03T08:07:14.580886Z"
    }
   },
   "source": [
    "## SOURCE"
   ]
  },
  {
   "cell_type": "code",
   "execution_count": 31,
   "metadata": {
    "ExecuteTime": {
     "end_time": "2020-02-03T08:13:14.736208Z",
     "start_time": "2020-02-03T08:13:14.733994Z"
    }
   },
   "outputs": [],
   "source": [
    "## "
   ]
  },
  {
   "cell_type": "markdown",
   "metadata": {},
   "source": [
    "## MAPPING"
   ]
  },
  {
   "cell_type": "markdown",
   "metadata": {
    "ExecuteTime": {
     "end_time": "2020-02-03T08:12:42.595925Z",
     "start_time": "2020-02-03T08:12:42.593572Z"
    }
   },
   "source": [
    "### Direct mapping from JSON response to desired fieldnames in wrapped response"
   ]
  },
  {
   "cell_type": "markdown",
   "metadata": {
    "ExecuteTime": {
     "end_time": "2020-02-03T08:04:44.458198Z",
     "start_time": "2020-02-03T08:04:44.447087Z"
    }
   },
   "source": [
    "### DBPedia\n",
    "Direct 1-1 Mapping from a field called \"results\" in the response"
   ]
  },
  {
   "cell_type": "code",
   "execution_count": 38,
   "metadata": {
    "ExecuteTime": {
     "end_time": "2020-02-03T08:23:49.141629Z",
     "start_time": "2020-02-03T08:23:48.928791Z"
    }
   },
   "outputs": [
    {
     "name": "stdout",
     "output_type": "stream",
     "text": [
      "[{'label': 'Shania Twain', 'uri': 'http://dbpedia.org/resource/Shania_Twain'},\n",
      " {'label': 'Shania Twain (album)',\n",
      "  'uri': 'http://dbpedia.org/resource/Shania_Twain_(album)'},\n",
      " {'label': 'Shania Twain discography',\n",
      "  'uri': 'http://dbpedia.org/resource/Shania_Twain_discography'},\n",
      " {'label': 'Live (Shania Twain video)',\n",
      "  'uri': 'http://dbpedia.org/resource/Live_(Shania_Twain_video)'},\n",
      " {'label': 'List of awards received by Shania Twain',\n",
      "  'uri': 'http://dbpedia.org/resource/List_of_awards_received_by_Shania_Twain'}]\n"
     ]
    }
   ],
   "source": [
    "DBPEDIA_SOURCE = {config.URL: 'http://lookup.dbpedia.org/api/search/PrefixSearch?',\n",
    "                  config.QUERY_FIELD: 'QueryString'}\n",
    "\n",
    "DBPEDIA_MAP = {config.RESULT: 'results',\n",
    "               config.DIRECT: {'label': 'label',\n",
    "                               'uri': 'uri'}}\n",
    "\n",
    "api = APIMapper(DBPEDIA_SOURCE, DBPEDIA_MAP)\n",
    "res = api.fetch_results('Shania')\n",
    "pprint(res)\n"
   ]
  },
  {
   "cell_type": "markdown",
   "metadata": {},
   "source": [
    "### GND\n",
    "\n",
    "Direct 1-1 mapping from the response"
   ]
  },
  {
   "cell_type": "code",
   "execution_count": 24,
   "metadata": {
    "ExecuteTime": {
     "end_time": "2020-02-03T08:11:49.347509Z",
     "start_time": "2020-02-03T08:11:49.089877Z"
    }
   },
   "outputs": [
    {
     "name": "stdout",
     "output_type": "stream",
     "text": [
      "[{'label': 'Pratchett, Terry | 1948-2015 | Journalist, Schriftsteller',\n",
      "  'uri': 'https://d-nb.info/gnd/119252880'},\n",
      " {'label': 'Pratchett, Rhianna | 1976- | Journalistin, Drehbuchautorin',\n",
      "  'uri': 'https://d-nb.info/gnd/1037047303'},\n",
      " {'label': 'Schmidt, Sabine | [19XX]- | Anglistin, Übersetzerin',\n",
      "  'uri': 'https://d-nb.info/gnd/1054048231'},\n",
      " {'label': 'Brehnkmann, Peder', 'uri': 'https://d-nb.info/gnd/13788365X'},\n",
      " {'label': 'Pratchett, Lawrence', 'uri': 'https://d-nb.info/gnd/15259440X'},\n",
      " {'label': 'Pratchett, Tracey', 'uri': 'https://d-nb.info/gnd/1164173618'},\n",
      " {'label': 'Pratchett, Terry', 'uri': 'https://d-nb.info/gnd/185977111'},\n",
      " {'label': 'Pratchett, Morgan', 'uri': 'https://d-nb.info/gnd/1150939907'},\n",
      " {'label': 'Pratchett, Rhianna', 'uri': 'https://d-nb.info/gnd/140745769'},\n",
      " {'label': 'Pratchett, Morgan S.', 'uri': 'https://d-nb.info/gnd/109496011X'}]\n"
     ]
    }
   ],
   "source": [
    "GND_PERSON_MAP = {config.DIRECT: {'uri': 'id',\n",
    "                                  'label': 'label'}}\n",
    "GND_PERSON_SOURCE = {config.URL: 'https://lobid.org/gnd/search',\n",
    "                     config.QUERY_FIELD: 'q',\n",
    "                     config.PAYLOAD: {'format':'json:suggest',\n",
    "                                      'filter': 'type:Person'}}\n",
    "gnd_api = APIMapper(GND_PERSON_SOURCE, GND_PERSON_MAP)\n",
    "res = gnd_api.fetch_results('Pratchett')\n",
    "pprint(res)"
   ]
  },
  {
   "cell_type": "markdown",
   "metadata": {},
   "source": [
    "## Applying simple ruules on the response values"
   ]
  },
  {
   "cell_type": "markdown",
   "metadata": {},
   "source": [
    "### VIAF \n",
    "\n",
    "- Direct 1-1 mapping from a field called \"result\"\n",
    "- Constructing URI from the response field called VIAFID. i.e., \n",
    "```\n",
    "{... \n",
    "'result': {[... {...'displayForm':'Pratchett, Terry, 1948-2015','uri': '41318026'} ...]}\n",
    "}\n",
    "```\n",
    "becomes\n",
    "```\n",
    "[...{'label': 'Pratchett, Terry, 1948-2015',\n",
    "  'uri': 'http://www.viaf.org/viaf/76382712'}, ...]\n",
    "```"
   ]
  },
  {
   "cell_type": "code",
   "execution_count": 36,
   "metadata": {
    "ExecuteTime": {
     "end_time": "2020-02-03T08:19:01.156072Z",
     "start_time": "2020-02-03T08:19:00.831954Z"
    }
   },
   "outputs": [
    {
     "name": "stdout",
     "output_type": "stream",
     "text": [
      "[{'label': 'Pratchett, Terry, 1948-2015',\n",
      "  'uri': 'http://www.viaf.org/viaf/76382712'},\n",
      " {'label': 'Pratchett, Rhianna', 'uri': 'http://www.viaf.org/viaf/41318026'},\n",
      " {'label': 'Pratchett, Lawrence', 'uri': 'http://www.viaf.org/viaf/37216918'},\n",
      " {'label': 'Pratchett, Marina A', 'uri': 'http://www.viaf.org/viaf/105358095'},\n",
      " {'label': 'Pratchett, Tracey',\n",
      "  'uri': 'http://www.viaf.org/viaf/74148449587015690502'},\n",
      " {'label': 'Pratchett, Morgan', 'uri': 'http://www.viaf.org/viaf/304310389'}]\n"
     ]
    }
   ],
   "source": [
    "VIAF_PERSON_MAP = {config.RESULT: 'result',\n",
    "                   config.FILTER: {'nametype': 'personal'},\n",
    "                   config.DIRECT: {'label': 'displayForm'},\n",
    "                   config.RULES: {'uri': {config.RULE: '\"http://www.viaf.org/viaf/{p1}\"',\n",
    "                                          config.FIELDS: {'p1': 'viafid'}}}}\n",
    "\n",
    "    \n",
    "VIAF_PERSON_SOURCE =  {config.URL: 'http://www.viaf.org/viaf/AutoSuggest',\n",
    "                       config.QUERY_FIELD: 'query'}\n",
    "           \n",
    "viaf_api = APIMapper(VIAF_PERSON_SOURCE, VIAF_PERSON_MAP, timeout=1)\n",
    "res = viaf_api.fetch_results('Pratchett')\n",
    "pprint(res)"
   ]
  },
  {
   "cell_type": "markdown",
   "metadata": {},
   "source": [
    "## GND and VIAF for person\n",
    "\n",
    "Combined response:\n",
    "- URI: `GND:id, VIAF:http://www.viaf.org/viaf/AutoSuggest/{viafid}`\n",
    "- LABEL: `GND:label, VIAF:displayForm`\n"
   ]
  },
  {
   "cell_type": "code",
   "execution_count": 37,
   "metadata": {
    "ExecuteTime": {
     "end_time": "2020-02-03T08:19:10.270072Z",
     "start_time": "2020-02-03T08:19:09.575816Z"
    }
   },
   "outputs": [
    {
     "name": "stdout",
     "output_type": "stream",
     "text": [
      "[{'label': 'Pratchett, Terry | 1948-2015 | Journalist, Schriftsteller',\n",
      "  'uri': 'https://d-nb.info/gnd/119252880'},\n",
      " {'label': 'Pratchett, Rhianna | 1976- | Journalistin, Drehbuchautorin',\n",
      "  'uri': 'https://d-nb.info/gnd/1037047303'},\n",
      " {'label': 'Brehnkmann, Peder', 'uri': 'https://d-nb.info/gnd/13788365X'},\n",
      " {'label': 'Schmidt, Sabine | [19XX]- | Anglistin, Übersetzerin',\n",
      "  'uri': 'https://d-nb.info/gnd/1054048231'},\n",
      " {'label': 'Pratchett, Lawrence', 'uri': 'https://d-nb.info/gnd/15259440X'},\n",
      " {'label': 'Pratchett, Tracey', 'uri': 'https://d-nb.info/gnd/1164173618'},\n",
      " {'label': 'Pratchett, Terry', 'uri': 'https://d-nb.info/gnd/185977111'},\n",
      " {'label': 'Pratchett, Morgan', 'uri': 'https://d-nb.info/gnd/1150939907'},\n",
      " {'label': 'Pratchett, Rhianna', 'uri': 'https://d-nb.info/gnd/140745769'},\n",
      " {'label': 'Pratchett, Morgan S.', 'uri': 'https://d-nb.info/gnd/109496011X'},\n",
      " {'label': 'Pratchett, Terry, 1948-2015',\n",
      "  'uri': 'http://www.viaf.org/viaf/76382712'},\n",
      " {'label': 'Pratchett, Rhianna', 'uri': 'http://www.viaf.org/viaf/41318026'},\n",
      " {'label': 'Pratchett, Lawrence', 'uri': 'http://www.viaf.org/viaf/37216918'},\n",
      " {'label': 'Pratchett, Marina A', 'uri': 'http://www.viaf.org/viaf/105358095'},\n",
      " {'label': 'Pratchett, Tracey',\n",
      "  'uri': 'http://www.viaf.org/viaf/74148449587015690502'},\n",
      " {'label': 'Pratchett, Morgan', 'uri': 'http://www.viaf.org/viaf/304310389'}]\n"
     ]
    }
   ],
   "source": [
    "results = []\n",
    "for api in (gnd_api, viaf_api):            \n",
    "    res = api.fetch_results('Pratchett')\n",
    "    results.extend(res)\n",
    "\n",
    "pprint(results)"
   ]
  },
  {
   "cell_type": "markdown",
   "metadata": {},
   "source": [
    "## Video Sources"
   ]
  },
  {
   "cell_type": "markdown",
   "metadata": {
    "ExecuteTime": {
     "end_time": "2020-02-05T11:31:30.861504Z",
     "start_time": "2020-02-05T11:31:30.850031Z"
    }
   },
   "source": [
    "### IMVDB"
   ]
  },
  {
   "cell_type": "code",
   "execution_count": 2,
   "metadata": {
    "ExecuteTime": {
     "end_time": "2020-02-05T12:51:31.853409Z",
     "start_time": "2020-02-05T12:51:31.836252Z"
    }
   },
   "outputs": [],
   "source": [
    "import logging\n",
    "logging.basicConfig(level=logging.ERROR)\n",
    "IMVDB_SOURCE = {config.URL: 'https://imvdb.com/api/v1/search/videos?',\n",
    "                  config.QUERY_FIELD: 'q'}\n",
    "\n",
    "IMVDB_MAP = {config.RESULT: 'results',\n",
    "             config.DIRECT: {'label': 'song_title','year': 'year',\n",
    "                             'uri': 'url'},\n",
    "             config.RULES: {'source_name': {config.RULE: '\"IMVDB\"'},\n",
    "                            'label': {config.RULE:\"'\\\"{p1}\\\"' + ' by '+','.join([artist['name'] for artist in {artists}])\",\n",
    "                                      config.FIELDS: { 'artists': 'artists','p1': 'song_title',}}}\n",
    "            }\n"
   ]
  },
  {
   "cell_type": "code",
   "execution_count": 3,
   "metadata": {
    "ExecuteTime": {
     "end_time": "2020-02-05T12:51:33.054244Z",
     "start_time": "2020-02-05T12:51:32.406244Z"
    }
   },
   "outputs": [
    {
     "data": {
      "text/plain": [
       "[{'label': '\"The People\" by Common',\n",
       "  'year': 2007,\n",
       "  'uri': 'https://imvdb.com/video/common/the-people',\n",
       "  'source_name': 'IMVDB'},\n",
       " {'label': '\"Common People\" by Pulp',\n",
       "  'year': 1995,\n",
       "  'uri': 'https://imvdb.com/video/pulp/common-people',\n",
       "  'source_name': 'IMVDB'},\n",
       " {'label': '\"Love of the Common People\" by Paul Young',\n",
       "  'year': None,\n",
       "  'uri': 'https://imvdb.com/video/paul-young-1/love-of-the-common-people',\n",
       "  'source_name': 'IMVDB'},\n",
       " {'label': '\"Celebrate\" by Common',\n",
       "  'year': 2011,\n",
       "  'uri': 'https://imvdb.com/video/common/celebrate',\n",
       "  'source_name': 'IMVDB'},\n",
       " {'label': '\"Be\" by Common',\n",
       "  'year': 2005,\n",
       "  'uri': 'https://imvdb.com/video/common/be',\n",
       "  'source_name': 'IMVDB'},\n",
       " {'label': '\"Nothing\" by Common Holly',\n",
       "  'year': 2017,\n",
       "  'uri': 'https://imvdb.com/video/common-holly/nothing',\n",
       "  'source_name': 'IMVDB'},\n",
       " {'label': '\"Sweet\" by Common',\n",
       "  'year': '',\n",
       "  'uri': 'https://imvdb.com/video/common/sweet',\n",
       "  'source_name': 'IMVDB'},\n",
       " {'label': '\"The Light\" by Common',\n",
       "  'year': 2000,\n",
       "  'uri': 'https://imvdb.com/video/common/the-light',\n",
       "  'source_name': 'IMVDB'},\n",
       " {'label': '\"Diamonds\" by Common',\n",
       "  'year': 2014,\n",
       "  'uri': 'https://imvdb.com/video/common/diamonds',\n",
       "  'source_name': 'IMVDB'},\n",
       " {'label': '\"Go\" by Common',\n",
       "  'year': 2005,\n",
       "  'uri': 'https://imvdb.com/video/common/go',\n",
       "  'source_name': 'IMVDB'},\n",
       " {'label': '\"The Game\" by Common',\n",
       "  'year': 2007,\n",
       "  'uri': 'https://imvdb.com/video/common/the-game',\n",
       "  'source_name': 'IMVDB'},\n",
       " {'label': '\"Ghetto Dreams\" by Common',\n",
       "  'year': '',\n",
       "  'uri': 'https://imvdb.com/video/common/ghetto-dreams',\n",
       "  'source_name': 'IMVDB'},\n",
       " {'label': '\"Kingdom\" by Common',\n",
       "  'year': 2014,\n",
       "  'uri': 'https://imvdb.com/video/common/kingdom',\n",
       "  'source_name': 'IMVDB'},\n",
       " {'label': '\"Common Knowledge\" by Conor Oberst',\n",
       "  'year': 2014,\n",
       "  'uri': 'https://imvdb.com/video/conor-oberst/common-knowledge',\n",
       "  'source_name': 'IMVDB'},\n",
       " {'label': '\"Blue Sky\" by Common',\n",
       "  'year': None,\n",
       "  'uri': 'https://imvdb.com/video/common/blue-sky',\n",
       "  'source_name': 'IMVDB'},\n",
       " {'label': '\"Giants Among Common Men\" by Jamies Elsewhere',\n",
       "  'year': None,\n",
       "  'uri': 'https://imvdb.com/video/jamies-elsewhere/giants-among-common-men',\n",
       "  'source_name': 'IMVDB'},\n",
       " {'label': '\"Joshua Snakes\" by Common Holly',\n",
       "  'year': 2019,\n",
       "  'uri': 'https://imvdb.com/video/common-holly/joshua-snakes',\n",
       "  'source_name': 'IMVDB'},\n",
       " {'label': '\"The Light\" by Common',\n",
       "  'year': 2000,\n",
       "  'uri': 'https://imvdb.com/video/common/the-light',\n",
       "  'source_name': 'IMVDB'},\n",
       " {'label': '\"We Are People People\" by The People People',\n",
       "  'year': 2008,\n",
       "  'uri': 'https://imvdb.com/video/the-people-people/we-are-people-people',\n",
       "  'source_name': 'IMVDB'},\n",
       " {'label': '',\n",
       "  'year': 2007,\n",
       "  'uri': 'https://imvdb.com/video/common/drivin-me-wild',\n",
       "  'source_name': 'IMVDB'},\n",
       " {'label': '\"Crazy Ok\" by Common Holly',\n",
       "  'year': 2019,\n",
       "  'uri': 'https://imvdb.com/video/common-holly/crazy-ok',\n",
       "  'source_name': 'IMVDB'},\n",
       " {'label': '\"Hearts On Fire\" by The Common Linnets',\n",
       "  'year': 2015,\n",
       "  'uri': 'https://imvdb.com/video/the-common-linnets/hearts-on-fire',\n",
       "  'source_name': 'IMVDB'},\n",
       " {'label': '\"Nothing In Common\" by Thompson Twins',\n",
       "  'year': 1986,\n",
       "  'uri': 'https://imvdb.com/video/thompson-twins/nothing-in-common',\n",
       "  'source_name': 'IMVDB'},\n",
       " {'label': '\"Raw (How You Like It)\" by Common',\n",
       "  'year': '',\n",
       "  'uri': 'https://imvdb.com/video/common/raw-how-you-like-it',\n",
       "  'source_name': 'IMVDB'},\n",
       " {'label': '\"Common Table\" by Reuben Hollebon',\n",
       "  'year': 2016,\n",
       "  'uri': 'https://imvdb.com/video/reuben-hollebon/common-table',\n",
       "  'source_name': 'IMVDB'}]"
      ]
     },
     "execution_count": 3,
     "metadata": {},
     "output_type": "execute_result"
    }
   ],
   "source": [
    "api = APIMapper(IMVDB_SOURCE, IMVDB_MAP, timeout=1)\n",
    "api.fetch_results('common people')"
   ]
  },
  {
   "cell_type": "markdown",
   "metadata": {},
   "source": [
    "### OMDb"
   ]
  },
  {
   "cell_type": "code",
   "execution_count": 5,
   "metadata": {
    "ExecuteTime": {
     "end_time": "2020-02-05T12:50:28.841873Z",
     "start_time": "2020-02-05T12:50:28.830245Z"
    }
   },
   "outputs": [
    {
     "name": "stdout",
     "output_type": "stream",
     "text": [
      "8219a74c\n"
     ]
    }
   ],
   "source": [
    "import os\n",
    "OMDB_API_KEY = os.environ.get('OMDB_API_KEY')\n",
    "# key is saved in $CONDA_PREFIX/etc/conda/activate.d/env_vars.sh\n",
    "print(OMDB_API_KEY)"
   ]
  },
  {
   "cell_type": "code",
   "execution_count": 6,
   "metadata": {
    "ExecuteTime": {
     "end_time": "2020-02-05T12:50:39.629393Z",
     "start_time": "2020-02-05T12:50:39.624382Z"
    }
   },
   "outputs": [],
   "source": [
    "OMDB_SOURCE = {config.URL: 'http://www.omdbapi.com/',\n",
    "               config.QUERY_FIELD: 's',\n",
    "              config.PAYLOAD: {'apikey':OMDB_API_KEY}}\n",
    "\n",
    "OMDB_MAP = {config.RESULT: 'Search',\n",
    "             config.DIRECT: {'label': 'Title', 'year': 'Year'},\n",
    "             config.RULES: {'source_name': {config.RULE: '\"OMDB\"'},\n",
    "                            'uri': {config.RULE:'\"https://www.imdb.com/title/{imdbID}\"',\n",
    "                                    config.FIELDS: {'imdbID': 'imdbID'}}}\n",
    "            }\n"
   ]
  },
  {
   "cell_type": "code",
   "execution_count": 7,
   "metadata": {
    "ExecuteTime": {
     "end_time": "2020-02-05T12:50:40.392842Z",
     "start_time": "2020-02-05T12:50:40.356772Z"
    }
   },
   "outputs": [
    {
     "name": "stdout",
     "output_type": "stream",
     "text": [
      "[{'label': 'Vertigo',\n",
      "  'source_name': 'OMDB',\n",
      "  'uri': 'https://www.imdb.com/title/tt0052357',\n",
      "  'year': '1958'},\n",
      " {'label': \"Cats Don't Have Vertigo\",\n",
      "  'source_name': 'OMDB',\n",
      "  'uri': 'https://www.imdb.com/title/tt2886926',\n",
      "  'year': '2014'},\n",
      " {'label': 'Vertigo 2005: U2 Live from Chicago',\n",
      "  'source_name': 'OMDB',\n",
      "  'uri': 'https://www.imdb.com/title/tt0488664',\n",
      "  'year': '2005'},\n",
      " {'label': 'Obsessed with Vertigo',\n",
      "  'source_name': 'OMDB',\n",
      "  'uri': 'https://www.imdb.com/title/tt0192387',\n",
      "  'year': '1997'},\n",
      " {'label': 'Vertigo',\n",
      "  'source_name': 'OMDB',\n",
      "  'uri': 'https://www.imdb.com/title/tt5433782',\n",
      "  'year': '2016'},\n",
      " {'label': 'Angel Guts 5: Red Vertigo',\n",
      "  'source_name': 'OMDB',\n",
      "  'uri': 'https://www.imdb.com/title/tt0224236',\n",
      "  'year': '1988'},\n",
      " {'label': 'Love Vertigo',\n",
      "  'source_name': 'OMDB',\n",
      "  'uri': 'https://www.imdb.com/title/tt0279494',\n",
      "  'year': '2001'},\n",
      " {'label': 'U2 - Vertigo 2005: Live from Milan',\n",
      "  'source_name': 'OMDB',\n",
      "  'uri': 'https://www.imdb.com/title/tt0967957',\n",
      "  'year': '2006'},\n",
      " {'label': 'Vértigo',\n",
      "  'source_name': 'OMDB',\n",
      "  'uri': 'https://www.imdb.com/title/tt0038232',\n",
      "  'year': '1946'},\n",
      " {'label': 'Vertigo',\n",
      "  'source_name': 'OMDB',\n",
      "  'uri': 'https://www.imdb.com/title/tt3478918',\n",
      "  'year': '2012–'}]\n"
     ]
    }
   ],
   "source": [
    "api = APIMapper(OMDB_SOURCE, OMDB_MAP, timeout=1)\n",
    "res =api.fetch_results('Vertigo')\n",
    "pprint(res)"
   ]
  },
  {
   "cell_type": "code",
   "execution_count": null,
   "metadata": {},
   "outputs": [],
   "source": []
  }
 ],
 "metadata": {
  "hide_input": false,
  "kernelspec": {
   "display_name": "Python [conda env:portfolio]",
   "language": "python",
   "name": "conda-env-portfolio-py"
  },
  "language_info": {
   "codemirror_mode": {
    "name": "ipython",
    "version": 3
   },
   "file_extension": ".py",
   "mimetype": "text/x-python",
   "name": "python",
   "nbconvert_exporter": "python",
   "pygments_lexer": "ipython3",
   "version": "3.6.8"
  },
  "toc": {
   "base_numbering": 1,
   "nav_menu": {},
   "number_sections": true,
   "sideBar": true,
   "skip_h1_title": true,
   "title_cell": "Table of Contents",
   "title_sidebar": "Contents",
   "toc_cell": false,
   "toc_position": {},
   "toc_section_display": true,
   "toc_window_display": true
  },
  "varInspector": {
   "cols": {
    "lenName": 16,
    "lenType": 16,
    "lenVar": 40
   },
   "kernels_config": {
    "python": {
     "delete_cmd_postfix": "",
     "delete_cmd_prefix": "del ",
     "library": "var_list.py",
     "varRefreshCmd": "print(var_dic_list())"
    },
    "r": {
     "delete_cmd_postfix": ") ",
     "delete_cmd_prefix": "rm(",
     "library": "var_list.r",
     "varRefreshCmd": "cat(var_dic_list()) "
    }
   },
   "types_to_exclude": [
    "module",
    "function",
    "builtin_function_or_method",
    "instance",
    "_Feature"
   ],
   "window_display": false
  }
 },
 "nbformat": 4,
 "nbformat_minor": 2
}
